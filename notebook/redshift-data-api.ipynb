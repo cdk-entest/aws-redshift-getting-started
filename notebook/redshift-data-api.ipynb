{
 "cells": [
  {
   "cell_type": "markdown",
   "id": "f7af0e30",
   "metadata": {},
   "source": [
    "## Redshift Data API in Python \n",
    "- [Sample GitHub](https://github.com/aws-samples/getting-started-with-amazon-redshift-data-api/blob/main/use-cases/sagemaker-notebook-redshift-ml/redshift_ml_with_data_api.ipynb)"
   ]
  },
  {
   "cell_type": "code",
   "execution_count": 49,
   "id": "20decb5a",
   "metadata": {},
   "outputs": [],
   "source": [
    "import boto3\n",
    "import time\n",
    "import numpy as np \n",
    "import pandas as pd\n",
    "import matplotlib.pyplot as plt"
   ]
  },
  {
   "cell_type": "markdown",
   "id": "7211c5ba",
   "metadata": {},
   "source": [
    "## Connection Information"
   ]
  },
  {
   "cell_type": "code",
   "execution_count": 36,
   "id": "bf3c0969",
   "metadata": {},
   "outputs": [],
   "source": [
    "DATABASE = \"sample_data_dev\"\n",
    "USER = \"demo\"\n",
    "REDSHIFT_ENDPOINT=\"redshiftcluster-785zisrqau5g.cfzjcdjgohw7.ap-southeast-1.redshift.amazonaws.com:5439/demo\""
   ]
  },
  {
   "cell_type": "markdown",
   "id": "89356912",
   "metadata": {},
   "source": [
    "## Client and Execute SQL"
   ]
  },
  {
   "cell_type": "code",
   "execution_count": 41,
   "id": "37e9e8ab",
   "metadata": {},
   "outputs": [],
   "source": [
    "session = boto3.session.Session()\n",
    "region = session.region_name\n",
    "\n",
    "def run_sql(sql_text):\n",
    "    client = boto3.client(\"redshift-data\")\n",
    "    res = client.execute_statement(\n",
    "        Database=DATABASE, \n",
    "        DbUser=USER, \n",
    "        Sql=sql_text,\n",
    "        ClusterIdentifier=REDSHIFT_ENDPOINT.split('.')[0]\n",
    "    )\n",
    "    query_id = res[\"Id\"]\n",
    "    done = False\n",
    "    while not done:\n",
    "        time.sleep(1)\n",
    "        status_description = client.describe_statement(Id=query_id)\n",
    "        status = status_description[\"Status\"]\n",
    "        if status == \"FAILED\":\n",
    "            raise Exception('SQL query failed:' + query_id + \": \" + status_description[\"Error\"])\n",
    "        elif status == \"FINISHED\":\n",
    "            if status_description['ResultRows']>0:\n",
    "                results = client.get_statement_result(Id=query_id)\n",
    "                column_labels = []\n",
    "                for i in range(len(results[\"ColumnMetadata\"])): column_labels.append(results[\"ColumnMetadata\"][i]['label'])\n",
    "                records = []\n",
    "                for record in results.get('Records'):\n",
    "                    records.append([list(rec.values())[0] for rec in record])\n",
    "                df = pd.DataFrame(np.array(records), columns=column_labels)\n",
    "                return df\n",
    "            else:\n",
    "                return query_id"
   ]
  },
  {
   "cell_type": "markdown",
   "id": "d05a1898",
   "metadata": {},
   "source": [
    "## Send Sample Queries \n",
    "\n",
    "Fin top customer by purchase from customer and orders table "
   ]
  },
  {
   "cell_type": "code",
   "execution_count": 56,
   "id": "e6d89124",
   "metadata": {},
   "outputs": [],
   "source": [
    "query_1 = \"\"\"\n",
    "select c_name, sum(o_totalprice) as total_purchase from (\n",
    "  select c_name, o_totalprice from {0}.customer, {0}.orders\n",
    "  where customer.c_custkey = orders.o_custkey\n",
    ") group by c_name order by total_purchase desc limit 10;\n",
    "\"\"\".format(\"tpch\")"
   ]
  },
  {
   "cell_type": "code",
   "execution_count": 57,
   "id": "9e46e6c3",
   "metadata": {},
   "outputs": [],
   "source": [
    "df = run_sql(query_1)"
   ]
  },
  {
   "cell_type": "code",
   "execution_count": 58,
   "id": "d234be7c",
   "metadata": {},
   "outputs": [
    {
     "data": {
      "text/html": [
       "<div>\n",
       "<style scoped>\n",
       "    .dataframe tbody tr th:only-of-type {\n",
       "        vertical-align: middle;\n",
       "    }\n",
       "\n",
       "    .dataframe tbody tr th {\n",
       "        vertical-align: top;\n",
       "    }\n",
       "\n",
       "    .dataframe thead th {\n",
       "        text-align: right;\n",
       "    }\n",
       "</style>\n",
       "<table border=\"1\" class=\"dataframe\">\n",
       "  <thead>\n",
       "    <tr style=\"text-align: right;\">\n",
       "      <th></th>\n",
       "      <th>c_name</th>\n",
       "      <th>total_purchase</th>\n",
       "    </tr>\n",
       "  </thead>\n",
       "  <tbody>\n",
       "    <tr>\n",
       "      <th>0</th>\n",
       "      <td>Customer#000143500</td>\n",
       "      <td>7012696.48</td>\n",
       "    </tr>\n",
       "    <tr>\n",
       "      <th>1</th>\n",
       "      <td>Customer#000095257</td>\n",
       "      <td>6563511.23</td>\n",
       "    </tr>\n",
       "    <tr>\n",
       "      <th>2</th>\n",
       "      <td>Customer#000087115</td>\n",
       "      <td>6457526.26</td>\n",
       "    </tr>\n",
       "    <tr>\n",
       "      <th>3</th>\n",
       "      <td>Customer#000131113</td>\n",
       "      <td>6311428.86</td>\n",
       "    </tr>\n",
       "    <tr>\n",
       "      <th>4</th>\n",
       "      <td>Customer#000103834</td>\n",
       "      <td>6306524.23</td>\n",
       "    </tr>\n",
       "    <tr>\n",
       "      <th>5</th>\n",
       "      <td>Customer#000134380</td>\n",
       "      <td>6291610.15</td>\n",
       "    </tr>\n",
       "    <tr>\n",
       "      <th>6</th>\n",
       "      <td>Customer#000069682</td>\n",
       "      <td>6287149.42</td>\n",
       "    </tr>\n",
       "    <tr>\n",
       "      <th>7</th>\n",
       "      <td>Customer#000102022</td>\n",
       "      <td>6273788.41</td>\n",
       "    </tr>\n",
       "    <tr>\n",
       "      <th>8</th>\n",
       "      <td>Customer#000098587</td>\n",
       "      <td>6265089.35</td>\n",
       "    </tr>\n",
       "    <tr>\n",
       "      <th>9</th>\n",
       "      <td>Customer#000085102</td>\n",
       "      <td>6135483.63</td>\n",
       "    </tr>\n",
       "  </tbody>\n",
       "</table>\n",
       "</div>"
      ],
      "text/plain": [
       "               c_name total_purchase\n",
       "0  Customer#000143500     7012696.48\n",
       "1  Customer#000095257     6563511.23\n",
       "2  Customer#000087115     6457526.26\n",
       "3  Customer#000131113     6311428.86\n",
       "4  Customer#000103834     6306524.23\n",
       "5  Customer#000134380     6291610.15\n",
       "6  Customer#000069682     6287149.42\n",
       "7  Customer#000102022     6273788.41\n",
       "8  Customer#000098587     6265089.35\n",
       "9  Customer#000085102     6135483.63"
      ]
     },
     "execution_count": 58,
     "metadata": {},
     "output_type": "execute_result"
    }
   ],
   "source": [
    "df"
   ]
  },
  {
   "cell_type": "code",
   "execution_count": 98,
   "id": "bad237c8",
   "metadata": {},
   "outputs": [],
   "source": [
    "names = [x.split('#')[-1][-3:] for x in df.c_name.to_list()]"
   ]
  },
  {
   "cell_type": "code",
   "execution_count": 102,
   "id": "da07e72a",
   "metadata": {},
   "outputs": [],
   "source": [
    "df = df.astype({\"total_purchase\": \"float\"})"
   ]
  },
  {
   "cell_type": "code",
   "execution_count": 107,
   "id": "32cc6179",
   "metadata": {},
   "outputs": [
    {
     "data": {
      "image/png": "[encoded data removed]",
      "text/plain": [
       "<Figure size 1000x500 with 1 Axes>"
      ]
     },
     "metadata": {},
     "output_type": "display_data"
    }
   ],
   "source": [
    "fig,axes = plt.subplots(1,1,figsize=(10,5))\n",
    "axes.bar(names, df.total_purchase)\n",
    "axes.set_ylabel('total purchase')\n",
    "axes.set_xlabel('customer name')\n",
    "axes.ticklabel_format(useOffset=False, style='plain', axis='y')\n",
    "axes.set_ylim(6135483.63, 7012696.48)\n",
    "fig.suptitle('top customer by purchase')\n",
    "plt.show()"
   ]
  },
  {
   "cell_type": "code",
   "execution_count": null,
   "id": "56168ca9",
   "metadata": {},
   "outputs": [],
   "source": []
  }
 ],
 "metadata": {
  "kernelspec": {
   "display_name": "conda_python3",
   "language": "python",
   "name": "conda_python3"
  },
  "language_info": {
   "codemirror_mode": {
    "name": "ipython",
    "version": 3
   },
   "file_extension": ".py",
   "mimetype": "text/x-python",
   "name": "python",
   "nbconvert_exporter": "python",
   "pygments_lexer": "ipython3",
   "version": "3.10.10"
  }
 },
 "nbformat": 4,
 "nbformat_minor": 5
}
