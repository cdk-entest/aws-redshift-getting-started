{
 "cells": [
  {
   "cell_type": "code",
   "execution_count": null,
   "id": "9c5052b7",
   "metadata": {},
   "outputs": [],
   "source": [
    "!pip install redshift-connector --quiet "
   ]
  },
  {
   "cell_type": "code",
   "execution_count": null,
   "id": "5dd6c02e",
   "metadata": {},
   "outputs": [],
   "source": [
    "import os\n",
    "import redshift_connector\n",
    "import pandas as pd\n",
    "import matplotlib.pyplot as plt\n",
    "from multiprocessing import Process"
   ]
  },
  {
   "cell_type": "code",
   "execution_count": null,
   "id": "25f8b955",
   "metadata": {},
   "outputs": [],
   "source": [
    "conn = redshift_connector.connect(\n",
    "     host='hello.392194582387.ap-southeast-1.redshift-serverless.amazonaws.com',\n",
    "     database='dev',\n",
    "     port=5439,\n",
    "     user='admin',\n",
    "     password='Admin2023'\n",
    "  )"
   ]
  },
  {
   "cell_type": "code",
   "execution_count": null,
   "id": "3d724fe9",
   "metadata": {},
   "outputs": [],
   "source": [
    "cursor = conn.cursor()"
   ]
  },
  {
   "cell_type": "code",
   "execution_count": null,
   "id": "125ea640",
   "metadata": {},
   "outputs": [],
   "source": [
    "def print_name():\n",
    "    \"\"\"\n",
    "    \"\"\"\n",
    "    print(\"thread {0} \\n\".format(os.getpid()))"
   ]
  },
  {
   "cell_type": "code",
   "execution_count": null,
   "id": "cd3b6eb2",
   "metadata": {},
   "outputs": [],
   "source": [
    "def run_query():\n",
    "    \"\"\"\n",
    "    \"\"\"\n",
    "    conn = redshift_connector.connect(\n",
    "     host='hello.392194582387.ap-southeast-1.redshift-serverless.amazonaws.com',\n",
    "     database='dev',\n",
    "     port=5439,\n",
    "     user='admin',\n",
    "     password='Admin2023')\n",
    "    #\n",
    "    cursor = conn.cursor()\n",
    "    # query \n",
    "    query= \"\"\"\n",
    "    select c_name, sum(o_totalprice) as total_purchase from (\n",
    "    select c_name, o_totalprice from customer, orders\n",
    "    where customer.c_custkey = orders.o_custkey\n",
    "    ) group by c_name order by total_purchase desc limit 10;\n",
    "    \"\"\"\n",
    "    # set cache result off\n",
    "    cursor.execute(\"\"\"\n",
    "    SET enable_result_cache_for_session TO off;\n",
    "    \"\"\")\n",
    "    # run query \n",
    "    cursor.execute(query)\n",
    "    # return data frame \n",
    "    df: pd.DataFrame = cursor.fetch_dataframe()\n",
    "    # print result \n",
    "    print(\"thread {} \\n\".format(os.getpid()))\n",
    "    print(df.head())"
   ]
  },
  {
   "cell_type": "code",
   "execution_count": null,
   "id": "d3f09117",
   "metadata": {},
   "outputs": [],
   "source": [
    "for k in range(100):\n",
    "    Process(target=run_query).start()"
   ]
  },
  {
   "cell_type": "code",
   "execution_count": null,
   "id": "f1a1564f",
   "metadata": {},
   "outputs": [],
   "source": [
    "run_query()"
   ]
  },
  {
   "cell_type": "code",
   "execution_count": null,
   "id": "a39bf206",
   "metadata": {},
   "outputs": [],
   "source": []
  }
 ],
 "metadata": {
  "kernelspec": {
   "display_name": "conda_python3",
   "language": "python",
   "name": "conda_python3"
  },
  "language_info": {
   "codemirror_mode": {
    "name": "ipython",
    "version": 3
   },
   "file_extension": ".py",
   "mimetype": "text/x-python",
   "name": "python",
   "nbconvert_exporter": "python",
   "pygments_lexer": "ipython3",
   "version": "3.10.10"
  }
 },
 "nbformat": 4,
 "nbformat_minor": 5
}
